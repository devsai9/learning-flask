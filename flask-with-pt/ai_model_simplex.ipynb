{
 "cells": [
  {
   "cell_type": "code",
   "execution_count": 1,
   "metadata": {},
   "outputs": [],
   "source": [
    "import os\n",
    "import torch\n",
    "from torch import nn\n",
    "from torch.utils.data import DataLoader, Subset\n",
    "from torchvision import datasets, transforms\n",
    "import numpy as np\n",
    "from simplexai.explainers.simplex import Simplex\n",
    "import matplotlib.pyplot as plt"
   ]
  },
  {
   "cell_type": "code",
   "execution_count": 2,
   "metadata": {},
   "outputs": [
    {
     "name": "stdout",
     "output_type": "stream",
     "text": [
      "Using cpu device\n"
     ]
    }
   ],
   "source": [
    "device = (\n",
    "    \"cuda\"\n",
    "    if torch.cuda.is_available()\n",
    "    else \"mps\"\n",
    "    if torch.backends.mps.is_available()\n",
    "    else \"cpu\"\n",
    ")\n",
    "print(f\"Using {device} device\")"
   ]
  },
  {
   "cell_type": "code",
   "execution_count": 4,
   "metadata": {},
   "outputs": [],
   "source": [
    "# Load MNIST dataset\n",
    "transform = transforms.Compose(\n",
    "    [transforms.ToTensor(), \n",
    "     transforms.Normalize((0.5,), (0.5,))]\n",
    ")\n",
    "\n",
    "train_dataset = datasets.MNIST(root='./data', train=True, transform=transform, download=False)\n",
    "test_dataset = datasets.MNIST(root='./data', train=False, transform=transform, download=False)\n",
    "\n",
    "train_loader = torch.utils.data.DataLoader(dataset=train_dataset, batch_size=4, shuffle=True)\n",
    "test_loader = torch.utils.data.DataLoader(dataset=test_dataset, batch_size=4, shuffle=False)"
   ]
  },
  {
   "cell_type": "code",
   "execution_count": 5,
   "metadata": {},
   "outputs": [],
   "source": [
    "# Create smaller subsets for corpus and test inputs\n",
    "corpus_indices = np.random.choice(len(train_dataset), size=100, replace=False)\n",
    "test_indices = np.random.choice(len(test_dataset), size=10, replace=False)\n",
    "\n",
    "corpus_dataset = Subset(train_dataset, corpus_indices)\n",
    "test_dataset = Subset(test_dataset, test_indices)\n",
    "\n",
    "corpus_loader = torch.utils.data.DataLoader(corpus_dataset, batch_size=100, shuffle=False)\n",
    "test_loader = torch.utils.data.DataLoader(test_dataset, batch_size=10, shuffle=False)\n",
    "\n",
    "corpus_inputs, _ = next(iter(corpus_loader))\n",
    "test_inputs, _ = next(iter(test_loader))"
   ]
  },
  {
   "cell_type": "code",
   "execution_count": 36,
   "metadata": {},
   "outputs": [],
   "source": [
    "from latent_model_classes import MNISTModel1, MNISTModel2, MNISTModel3\n",
    "model = MNISTModel3()\n",
    "model.load_state_dict(torch.load('models/model3_latent.pth', weights_only=True))\n",
    "model.eval()\n",
    "\n",
    "# Compute latent representations\n",
    "corpus_inputs = corpus_inputs.to(device)\n",
    "test_inputs = test_inputs.to(device)\n",
    "\n",
    "corpus_latents = model.latent_representation(corpus_inputs).detach()\n",
    "test_latents = model.latent_representation(test_inputs).detach()"
   ]
  },
  {
   "cell_type": "code",
   "execution_count": 37,
   "metadata": {},
   "outputs": [
    {
     "name": "stdout",
     "output_type": "stream",
     "text": [
      "Weight Fitting Epoch: 2000/10000 ; Error: 19 ; Regulator: 5.95 ; Reg Factor: 0\n",
      "Weight Fitting Epoch: 4000/10000 ; Error: 11.9 ; Regulator: 2.39 ; Reg Factor: 0\n",
      "Weight Fitting Epoch: 6000/10000 ; Error: 10.6 ; Regulator: 1.17 ; Reg Factor: 0\n",
      "Weight Fitting Epoch: 8000/10000 ; Error: 10.3 ; Regulator: 0.772 ; Reg Factor: 0\n",
      "Weight Fitting Epoch: 10000/10000 ; Error: 10.2 ; Regulator: 0.597 ; Reg Factor: 0\n"
     ]
    }
   ],
   "source": [
    "simplex = Simplex(corpus_examples=corpus_inputs, corpus_latent_reps=corpus_latents)\n",
    "\n",
    "# Fit SimplEx\n",
    "simplex.fit(test_examples=test_inputs, test_latent_reps=test_latents, reg_factor=0)"
   ]
  },
  {
   "cell_type": "code",
   "execution_count": null,
   "metadata": {},
   "outputs": [],
   "source": [
    "# weights = simplex.weights\n",
    "\n",
    "# # Compute the Integrated Jacobian for a specific example\n",
    "# input_baseline = torch.zeros_like(corpus_inputs)\n",
    "# i = 1  # Index of the test example to explain\n",
    "# simplex.jacobian_projection(test_id=i, model=model, input_baseline=input_baseline)\n",
    "\n",
    "# # Decompose the test example\n",
    "# result = simplex.decompose(i)"
   ]
  },
  {
   "cell_type": "code",
   "execution_count": null,
   "metadata": {},
   "outputs": [],
   "source": [
    "# import matplotlib.pyplot as plt\n",
    "\n",
    "# def show_image(image, title=None):\n",
    "#     \"\"\"Display an image with an optional title.\"\"\"\n",
    "#     plt.imshow(image.squeeze().cpu(), cmap='gray')\n",
    "#     if title:\n",
    "#         plt.title(title)\n",
    "#     plt.axis('off')\n",
    "#     plt.show()\n",
    "\n",
    "# # Visualize the test image and top k corpus examples\n",
    "# test_image = test_inputs[i]\n",
    "# show_image(test_image, title=f\"Test Image (Index: {i})\")\n",
    "\n",
    "# # Top k corpus examples\n",
    "# top_k_indices = weights[i].topk(k=3).indices\n",
    "# for rank, idx in enumerate(top_k_indices, start=1):\n",
    "#     show_image(corpus_inputs[idx], title=f\"Top {rank} Corpus Example (Index: {idx.item()})\")"
   ]
  },
  {
   "cell_type": "code",
   "execution_count": 28,
   "metadata": {},
   "outputs": [],
   "source": [
    "from PIL import Image\n",
    "\n",
    "def preprocess_image(image_path):\n",
    "    \"\"\"Load and preprocess an image to match MNIST format.\"\"\"\n",
    "    transform = transforms.Compose([\n",
    "        transforms.Grayscale(),\n",
    "        transforms.Resize((28, 28)),\n",
    "        transforms.ToTensor(),\n",
    "        transforms.Normalize((0.5,), (0.5,))\n",
    "    ])\n",
    "    \n",
    "    image = Image.open(image_path)\n",
    "    return transform(image).unsqueeze(0).to(device)\n",
    "\n",
    "new_image = preprocess_image(\"../human_test_images/image.png\")"
   ]
  },
  {
   "cell_type": "code",
   "execution_count": null,
   "metadata": {},
   "outputs": [
    {
     "name": "stdout",
     "output_type": "stream",
     "text": [
      "Weight Fitting Epoch: 2000/10000 ; Error: 795 ; Regulator: 52.1 ; Reg Factor: 0\n",
      "Weight Fitting Epoch: 4000/10000 ; Error: 552 ; Regulator: 20.4 ; Reg Factor: 0\n",
      "Weight Fitting Epoch: 6000/10000 ; Error: 516 ; Regulator: 13.3 ; Reg Factor: 0\n",
      "Weight Fitting Epoch: 8000/10000 ; Error: 506 ; Regulator: 12.3 ; Reg Factor: 0\n",
      "Weight Fitting Epoch: 10000/10000 ; Error: 502 ; Regulator: 11.8 ; Reg Factor: 0\n"
     ]
    }
   ],
   "source": [
    "new_latent = model.latent_representation(new_image).detach()\n",
    "new_latent = new_latent.expand(corpus_latents.shape[0], -1) # Expands to [100, latent_dim]\n",
    "\n",
    "# Fit Simplex for the new image\n",
    "simplex.fit(test_examples=new_image, test_latent_reps=new_latent, reg_factor=0)\n",
    "result = simplex.decompose(test_id=0)"
   ]
  },
  {
   "cell_type": "code",
   "execution_count": 35,
   "metadata": {},
   "outputs": [
    {
     "data": {
      "image/png": "[encoded data removed]",
      "text/plain": [
       "<Figure size 640x480 with 1 Axes>"
      ]
     },
     "metadata": {},
     "output_type": "display_data"
    },
    {
     "data": {
      "image/png": "[encoded data removed]",
      "text/plain": [
       "<Figure size 640x480 with 1 Axes>"
      ]
     },
     "metadata": {},
     "output_type": "display_data"
    },
    {
     "data": {
      "image/png": "[encoded data removed]",
      "text/plain": [
       "<Figure size 640x480 with 1 Axes>"
      ]
     },
     "metadata": {},
     "output_type": "display_data"
    },
    {
     "data": {
      "image/png": "[encoded data removed]",
      "text/plain": [
       "<Figure size 640x480 with 1 Axes>"
      ]
     },
     "metadata": {},
     "output_type": "display_data"
    }
   ],
   "source": [
    "# Show the original image\n",
    "show_image(new_image, title=\"New Image to Explain\")\n",
    "\n",
    "# Get top corpus examples\n",
    "top_k_indices = simplex.weights[0].topk(k=3).indices\n",
    "for rank, idx in enumerate(top_k_indices, start=1):\n",
    "    show_image(corpus_inputs[idx], title=f\"Top {rank} Corpus Example (Index: {idx.item()})\")"
   ]
  }
 ],
 "metadata": {
  "kernelspec": {
   "display_name": "Python 3",
   "language": "python",
   "name": "python3"
  },
  "language_info": {
   "codemirror_mode": {
    "name": "ipython",
    "version": 3
   },
   "file_extension": ".py",
   "mimetype": "text/x-python",
   "name": "python",
   "nbconvert_exporter": "python",
   "pygments_lexer": "ipython3",
   "version": "3.11.4"
  }
 },
 "nbformat": 4,
 "nbformat_minor": 2
}
